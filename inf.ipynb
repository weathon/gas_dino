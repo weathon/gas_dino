{
 "cells": [
  {
   "cell_type": "code",
   "execution_count": 1,
   "metadata": {},
   "outputs": [],
   "source": [
    "import os\n",
    "os.environ['CUDA_VISIBLE_DEVICES'] = '0'\n",
    "import argparse\n",
    "class Args:\n",
    "    def __init__(self):\n",
    "        pass\n",
    "args = Args()"
   ]
  },
  {
   "cell_type": "code",
   "execution_count": 2,
   "metadata": {},
   "outputs": [],
   "source": [
    "args.backbone = \"segformer\"\n",
    "args.base_aug_spice = 0.4\n",
    "args.batch_size = 32\n",
    "args.conf_pen = 0.03\n",
    "args.cross_attention_type = \"lite\"\n",
    "args.decoder = \"transformer\"\n",
    "args.dropout = 0.18\n",
    "args.ffn_dim = 1024\n",
    "args.frozen_backbone = False\n",
    "args.fusion = \"concat\"\n",
    "args.image_size = 384\n",
    "args.last_n = 1\n",
    "args.load_checkpoint = False\n",
    "args.log_file = \"0.log\"\n",
    "args.loss_fn = \"f1\"\n",
    "args.lr = 0.000006\n",
    "args.note = \"\"\n",
    "args.num_decoder_layers = 2\n",
    "args.num_epochs = 700\n",
    "args.num_workers = 20\n",
    "args.parallel_bca = 4\n",
    "args.use_bsvunet2_style_dataaug = True\n",
    "args.use_tqdm = False\n",
    "args.use_train_as_val = False\n",
    "args.weight_decay = 0.0000025"
   ]
  },
  {
   "cell_type": "code",
   "execution_count": 3,
   "metadata": {},
   "outputs": [],
   "source": [
    "import torch\n",
    "import torch.nn as nn\n",
    "import torch.nn.functional as F\n",
    "import torchvision.transforms.v2\n",
    "import torchvision.transforms.functional\n",
    "\n",
    "import numpy as np\n",
    "import cv2\n",
    "import os\n",
    "import cv2 as cv\n",
    "import matplotlib.pyplot as plt\n",
    "import random\n",
    "\n",
    "class MyDataset(torch.utils.data.Dataset):\n",
    "    def __init__(self, mode=\"train\"):\n",
    "        self.mode = mode\n",
    "        self.datapath = \"/home/wg25r/fastdata/CDNet\"\n",
    "       \n",
    "        if mode == \"train\":\n",
    "            with open(f\"{self.datapath}/train.txt\") as f:\n",
    "                self.images = f.read().split(\"\\n\")\n",
    "        else: \n",
    "            with open(f\"{self.datapath}/val.txt\") as f:\n",
    "                self.images = f.read().split(\"\\n\")\n",
    "            self.images = random.sample(self.images, 128)\n",
    "\n",
    "\n",
    "        self.ignore_after = 40 \n",
    "        self.space_trans = torchvision.transforms.v2.Compose([\n",
    "            torchvision.transforms.v2.RandomResizedCrop(448, scale=(0.6, 3)), \n",
    "            torchvision.transforms.v2.RandomHorizontalFlip(0.5),\n",
    "            torchvision.transforms.v2.RandomRotation(20), \n",
    "            torchvision.transforms.v2.RandomApply(\n",
    "                [torchvision.transforms.v2.ElasticTransform(alpha=50)], p=0.2\n",
    "            ),\n",
    "            torchvision.transforms.v2.RandomApply(\n",
    "                [torchvision.transforms.v2.RandomPerspective()], p=0.2\n",
    "            ),\n",
    "            torchvision.transforms.v2.RandomApply(\n",
    "                [torchvision.transforms.v2.RandomAffine(20,  scale=(0.5, 1.1))], p=0.2\n",
    "            ),\n",
    "        ])\n",
    "        self.color_trans = torchvision.transforms.v2.Compose([\n",
    "            torchvision.transforms.v2.RandomApply([torchvision.transforms.v2.GaussianBlur(3, sigma=(0.1, 2.0))], p=0.4)\n",
    "        ])\n",
    "\n",
    "    def __len__(self): \n",
    "        if self.mode == \"train\":\n",
    "            return int(len(self.images)) \n",
    "        else: \n",
    "            return int(len(self.images))\n",
    "        \n",
    "\n",
    "    def __getitem__(self, idx):  \n",
    "        filename = self.images[idx]\n",
    "\n",
    "        current_frame = cv2.resize(cv2.imread(f\"{self.datapath}/in/{filename}\"), (448, 448))\n",
    "        long_bg = cv2.resize(cv2.imread(f\"{self.datapath}/long/{filename}\"), (448, 448))\n",
    "        short_bg = cv2.resize(cv2.imread(f\"{self.datapath}/short/{filename}\"), (448, 448)) \n",
    "        label_ = cv2.imread(f\"{self.datapath}/gt/{filename}\")\n",
    "        label = (label_ == 255) * 255.0\n",
    "        ROI =  (label_ != 85) * 255.0\n",
    "        label = cv2.resize(label, (448, 448))\n",
    "        ROI = cv2.resize(ROI, (448//4, 448//4)).mean(-1) > 0\n",
    "        ROI = torch.tensor(ROI).float()\n",
    "\n",
    "        current_frame = torch.tensor(current_frame).permute(2,0,1)\n",
    "        long_bg = torch.tensor(long_bg).permute(2,0,1)\n",
    "        short_bg = torch.tensor(short_bg).permute(2,0,1)\n",
    "        label = torch.tensor(label).permute(2,0,1)\n",
    "        X = torch.cat([current_frame, long_bg, short_bg], axis=0)\n",
    "        # print(X.shape)\n",
    "        \n",
    "        Y = label.max(0)[0][None,:,:] \n",
    "\n",
    "        if self.mode == \"train\":  \n",
    "            # X = self.color_trans(X) \n",
    "            YX = torch.cat((Y, X), axis=0) \n",
    "            YX = self.space_trans(YX)\n",
    "            Y = YX[:1]/255.0  \n",
    "            X = YX[1:]/255.0 \n",
    "            X += torch.randn(X.shape) * 0.005\n",
    "            X += torch.tensor(cv.resize(np.random.normal(0, 0.005, (10, 10)), X.shape[1:])).float()\n",
    "            X *= 1 + torch.randn(9)[:,None,None] * 0.005\n",
    "        else:\n",
    "            X = X/255.0\n",
    "            Y = Y/255.0 \n",
    "        Y = torchvision.transforms.functional.resize(Y, (448//4, 448//4))[0] > 0\n",
    "        Y = Y.float() #if not this loss will be issue, maybe from the resize, identical not 0\n",
    "        X[X<0]=0\n",
    "        # print(X.shape, Y.shape, ROI.shape)\n",
    "        return X, Y, ROI \n"
   ]
  },
  {
   "cell_type": "code",
   "execution_count": 4,
   "metadata": {},
   "outputs": [],
   "source": [
    "class BCA(nn.Module):\n",
    "    \"\"\"\n",
    "    Background-CurrentFrame Attention\n",
    "    \"\"\"\n",
    "    def __init__(self, dim=384):\n",
    "        super(BCA, self).__init__()\n",
    "        self.dim = dim\n",
    "        if args.cross_attention_type == \"lite\":\n",
    "            self.key_projection = nn.Linear(dim * args.last_n, dim * args.last_n)\n",
    "            self.query_projection = nn.Linear(dim * args.last_n, dim * args.last_n)\n",
    "            self.value_projection = nn.Linear(dim * 2 * args.last_n, dim * args.last_n)\n",
    "            self.projection_dropout = nn.Dropout(args.dropout)\n",
    "            self.mlp = nn.Sequential(\n",
    "                nn.Linear(2 * dim * args.last_n, args.ffn_dim),\n",
    "                nn.Dropout(args.dropout),\n",
    "                nn.ReLU(),\n",
    "                nn.Linear(args.ffn_dim, args.ffn_dim),\n",
    "                nn.Dropout(args.dropout), \n",
    "                nn.ReLU(), \n",
    "                nn.Linear(args.ffn_dim, dim * args.last_n),\n",
    "                nn.Dropout(args.dropout)\n",
    "            )\n",
    "            self.norm1 = nn.LayerNorm(dim * args.last_n) \n",
    "            self.norm2 = nn.LayerNorm(dim * args.last_n)\n",
    "            self.head = nn.Linear(dim * args.last_n * 2, dim)\n",
    "        elif args.cross_attention_type == \"full\":\n",
    "            self.cross_attention = nn.MultiheadAttention(dim, 8, dropout=args.dropout, batch_first=True, vdim = 2 * dim, kdim = dim)\n",
    "            self.mlp = nn.Sequential(\n",
    "                nn.Linear(2 * dim, args.ffn_dim),\n",
    "                nn.Dropout(args.dropout),\n",
    "                nn.ReLU(),\n",
    "                nn.Linear(args.ffn_dim, args.ffn_dim),\n",
    "                nn.Dropout(args.dropout), \n",
    "                nn.ReLU(), \n",
    "                nn.Linear(args.ffn_dim, dim),\n",
    "                nn.Dropout(args.dropout)\n",
    "            )\n",
    "            self.norm1 = nn.LayerNorm(dim)\n",
    "            self.norm2 = nn.LayerNorm(dim)\n",
    "            self.head = nn.Linear(dim * 2, dim)\n",
    "    def forward(self, current_frame, long_background, short_background):\n",
    "        \"\"\"\n",
    "        long_background: torch.Tensor, shape (batch, L, dim)\n",
    "        short_background: torch.Tensor, shape (batch, L, dim)\n",
    "        current_frame: torch.Tensor, shape (batch, L, dim)\n",
    "        \"\"\"\n",
    "        if args.cross_attention_type == \"lite\":\n",
    "            # long background attention with frame\n",
    "            key = self.projection_dropout(self.key_projection(long_background))\n",
    "            query = self.projection_dropout(self.query_projection(current_frame))\n",
    "            value = self.projection_dropout(self.value_projection(torch.concatenate([long_background, current_frame], dim=-1)))\n",
    "\n",
    "            attn_score = torch.einsum(\"bld,bld->bl\", query, key) / self.dim**0.5\n",
    "            attn_score = F.softmax(attn_score, dim=1)\n",
    "            attn_output = torch.einsum(\"bl,bld->bld\", attn_score, value)\n",
    "            attn_output = self.norm1(attn_output + current_frame) \n",
    "            mlp_output = self.mlp(torch.concatenate([attn_output, current_frame], dim=-1))\n",
    "            mlp_output = self.norm2(mlp_output + attn_output)\n",
    "\n",
    "            # short background attention with frame\n",
    "            key = self.projection_dropout(self.key_projection(short_background))\n",
    "            query = self.projection_dropout(self.query_projection(current_frame))\n",
    "            value = self.projection_dropout(self.value_projection(torch.concatenate([short_background, current_frame], dim=-1)))\n",
    "\n",
    "            attn_score = torch.einsum(\"bld,bld->bl\", query, key) / self.dim**0.5\n",
    "            attn_score = F.softmax(attn_score, dim=1)\n",
    "            attn_output = torch.einsum(\"bl,bld->bld\", attn_score, value) \n",
    "            attn_output = self.norm1(attn_output + mlp_output)\n",
    "            mlp_output = self.mlp(torch.concatenate([attn_output, mlp_output], dim=-1))\n",
    "            mlp_output2 = self.norm2(mlp_output + attn_output)\n",
    "            return self.head(torch.cat([mlp_output, mlp_output2], dim=-1))\n",
    "        elif args.cross_attention_type == \"full\":\n",
    "            key = long_background\n",
    "            query = current_frame\n",
    "            value = torch.cat([long_background, current_frame], dim=-1)\n",
    "            attn_output, _ = self.cross_attention(query, key, value)\n",
    "            attn_output = self.norm1(attn_output + current_frame)\n",
    "            mlp_output = self.mlp(torch.cat([attn_output, current_frame], dim=-1))\n",
    "            mlp_output1 = self.norm2(mlp_output + attn_output)\n",
    "\n",
    "            key = short_background\n",
    "            query = current_frame\n",
    "            value = torch.cat([short_background, current_frame], dim=-1)\n",
    "            attn_output, _ = self.cross_attention(query, key, value)\n",
    "            attn_output = self.norm1(attn_output + mlp_output)\n",
    "            mlp_output = self.mlp(torch.cat([attn_output, mlp_output], dim=-1))\n",
    "            mlp_output2 = self.norm2(mlp_output + attn_output)\n",
    "\n",
    "            return self.head(torch.cat([mlp_output1, mlp_output2], dim=-1)) \n",
    "\n",
    "\n",
    "            \n",
    "        \n",
    "\n",
    "        \n",
    "\n",
    "\n",
    "\n",
    "# %%\n",
    "class MyModel(nn.Module):\n",
    "    def __init__(self, backbone):\n",
    "        super(MyModel, self).__init__()\n",
    "        self.backbone = backbone\n",
    "        if args.frozen_backbone:\n",
    "            for param in self.backbone.parameters():\n",
    "                param.requires_grad = False\n",
    "        if args.fusion == \"cross_attention\":\n",
    "            self.bca = BCA()\n",
    "            self.bca2 = BCA()\n",
    "            if args.parallel_bca != 0:\n",
    "                self.bcas = nn.ModuleList([BCA() for _ in range(args.parallel_bca)])\n",
    "                self.bcas2 = nn.ModuleList([BCA() for _ in range(args.parallel_bca)])\n",
    "                self.down_fc = nn.Linear(384 * args.parallel_bca, 384)\n",
    "                self.down_fc2 = nn.Linear(384 * args.parallel_bca, 384)\n",
    "        elif args.fusion == \"concat\":\n",
    "            self.fusion = nn.Linear(384 * 3, 384)\n",
    "\n",
    "        elif args.fusion == \"early\":\n",
    "            self.backbone.segformer.encoder.patch_embeddings[0].proj = torch.nn.Conv2d(9, 64, kernel_size=(7, 7), stride=(4, 4), padding=(3, 3))\n",
    "            self.proj_early = torch.nn.Linear(256, 384)\n",
    "        if args.decoder == \"conv\":\n",
    "            self.decoder = nn.Sequential(\n",
    "                nn.Conv2d(384, args.ffn_dim, 3, padding='same'),\n",
    "                nn.Dropout(args.dropout),\n",
    "                nn.GELU(), \n",
    "                nn.Conv2d(args.ffn_dim, args.ffn_dim, 3, padding='same'),\n",
    "                nn.Dropout(args.dropout),\n",
    "                nn.GELU(),\n",
    "                nn.Conv2d(args.ffn_dim, 384, 3, padding='same'),\n",
    "            )\n",
    "        elif args.decoder == \"transformer\":\n",
    "            self.decoder = nn.TransformerEncoder(\n",
    "                nn.TransformerEncoderLayer(\n",
    "                    d_model=384, nhead=8, dim_feedforward=args.ffn_dim, dropout=args.dropout\n",
    "                ), \n",
    "                num_layers=args.num_decoder_layers\n",
    "            )\n",
    "        elif args.decoder == \"none\":\n",
    "            self.decoder = nn.Identity()\n",
    "            \n",
    "        self.upsample = nn.Upsample(scale_factor=2, mode='bicubic')\n",
    "\n",
    "        self.head = nn.Sequential(\n",
    "            nn.Conv2d(384, 1, 3, padding='same'),\n",
    "        )   \n",
    "        self.textual_encoder = nn.AvgPool2d(4)\n",
    "        if args.backbone == \"segformer\":\n",
    "            self.projection = nn.Linear(256, 384)\n",
    "\n",
    "    def forward(self, current_frame, long_bg, short_bg):\n",
    "            if args.backbone == \"dino\": \n",
    "                long_bg = self.backbone.get_intermediate_layers(long_bg, n=last_n)\n",
    "                short_bg = self.backbone.get_intermediate_layers(short_bg, n=last_n)\n",
    "                current_frame = self.backbone.get_intermediate_layers(current_frame, n=last_n)\n",
    "                current_frame = torch.concatenate(current_frame, dim=-1)\n",
    "                long_bg = torch.concatenate(long_bg, dim=-1)\n",
    "                short_bg = torch.concatenate(short_bg, dim=-1)\n",
    "                current_frame = current_frame[:,1:,:]\n",
    "                long_bg = long_bg[:,1:,:] \n",
    "                short_bg = short_bg[:,1:,:]\n",
    "\n",
    "                if args.fusion == \"cross_attention\":\n",
    "                    current_frame = self.bca(current_frame, long_bg, short_bg)\n",
    "                    current_frame = self.bca2(current_frame, long_bg, short_bg)\n",
    "                    if args.parallel_bca != 0:\n",
    "                        current_frames = []\n",
    "                        for bca in self.bcas:\n",
    "                            current_frames.append(bca(current_frame, long_bg, short_bg))\n",
    "                        current_frame = self.down_fc(torch.cat(current_frames, dim=-1))\n",
    "\n",
    "                        current_frames = []\n",
    "                        for bca in self.bcas2:\n",
    "                            current_frames.append(bca(current_frame, long_bg, short_bg))\n",
    "                        current_frame = self.down_fc2(torch.cat(current_frames, dim=-1))\n",
    "                elif args.fusion == \"concat\":\n",
    "                    current_frame = self.fusion(torch.cat([current_frame, long_bg, short_bg], dim=-1))\n",
    "\n",
    "                if args.decoder == \"conv\":\n",
    "                    current_frame = current_frame.reshape(long_bg.shape[0], args.image_size//8, args.image_size//8, 384).permute(0,3,1,2)\n",
    "                    current_frame = self.decoder(current_frame) + current_frame\n",
    "                elif args.decoder == \"transformer\":\n",
    "                    current_frame = self.decoder(current_frame)\n",
    "                    current_frame = current_frame.reshape(long_bg.shape[0], args.image_size//8, args.image_size//8, 384).permute(0,3,1,2)\n",
    "                else:\n",
    "                    pass\n",
    "                current_frame = self.upsample(current_frame)\n",
    "                return self.head(current_frame)     \n",
    "        \n",
    "            else:\n",
    "                # print(long_bg.shape, short_bg.shape, current_frame.shape)\n",
    "                if args.fusion == \"early\":\n",
    "                    feature = torch.cat([current_frame, long_bg, short_bg], dim=1)\n",
    "                    current_frame = self.backbone(feature).logits.squeeze(1).flatten(-2, -1).permute(0, 2, 1)\n",
    "                    current_frame = self.proj_early(current_frame)\n",
    "                else:\n",
    "                    long_bg = self.projection(self.backbone(long_bg).logits.flatten(-2, -1).permute(0, 2, 1))\n",
    "                    short_bg = self.projection(self.backbone(short_bg).logits.flatten(-2, -1).permute(0, 2, 1))\n",
    "                    current_frame = self.projection(self.backbone(current_frame).logits.flatten(-2, -1).permute(0, 2, 1))\n",
    "                    if args.fusion == \"cross_attention\":\n",
    "                        current_frame = self.bca(current_frame, long_bg, short_bg)\n",
    "                        current_frame = self.bca2(current_frame, long_bg, short_bg)\n",
    "                        if args.parallel_bca != 0:\n",
    "                            current_frames = []\n",
    "                            for bca in self.bcas:\n",
    "                                current_frames.append(bca(current_frame, long_bg, short_bg))\n",
    "                            current_frame = self.down_fc(torch.cat(current_frames, dim=-1))\n",
    "\n",
    "                            current_frames = []\n",
    "                            for bca in self.bcas2:\n",
    "                                current_frames.append(bca(current_frame, long_bg, short_bg))\n",
    "                            current_frame = self.down_fc2(torch.cat(current_frames, dim=-1))\n",
    "                    else:\n",
    "                        current_frame = self.fusion(torch.cat([current_frame, long_bg, short_bg], dim=-1))\n",
    "\n",
    "                if args.decoder == \"conv\":\n",
    "                    current_frame = current_frame.reshape(long_bg.shape[0], args.image_size//4, args.image_size//4, 384).permute(0,3,1,2)\n",
    "                    current_frame = self.decoder(current_frame) + current_frame\n",
    "                elif args.decoder == \"transformer\":\n",
    "                    current_frame = self.decoder(current_frame)\n",
    "                    current_frame = current_frame.reshape(long_bg.shape[0], args.image_size//4, args.image_size//4, 384).permute(0,3,1,2)\n",
    "                else:\n",
    "                    pass\n",
    "                return self.head(current_frame) \n",
    "                \n",
    "\n"
   ]
  },
  {
   "cell_type": "code",
   "execution_count": 13,
   "metadata": {},
   "outputs": [],
   "source": [
    "with open(\"/home/wg25r/fastdata/CDNet/val.txt\", \"r\") as f:\n",
    "    val_files = f.read().split(\"\\n\")"
   ]
  },
  {
   "cell_type": "code",
   "execution_count": 15,
   "metadata": {},
   "outputs": [],
   "source": [
    "# val_files = os.listdir(\"/home/wg25r/fastdata/gasvid/train/images\")\n",
    "val_list = [i for i in sorted(val_files) if i.startswith(\"baseline_pedestrians\")]"
   ]
  },
  {
   "cell_type": "code",
   "execution_count": 17,
   "metadata": {},
   "outputs": [],
   "source": [
    "frames = []\n",
    "long_bg = []\n",
    "short_bg = []\n",
    "for i in val_list:\n",
    "    frames.append(cv2.resize(cv2.imread(f\"/home/wg25r/fastdata/CDNet/in/{i}\"), (384, 384)))\n",
    "    long_bg.append(cv2.resize(cv2.imread(f\"/home/wg25r/fastdata/CDNet/short/{i}\"), (384, 384)))\n",
    "    short_bg.append(cv2.resize(cv2.imread(f\"/home/wg25r/fastdata/CDNet/long/{i}\"), (384, 384)))"
   ]
  },
  {
   "cell_type": "code",
   "execution_count": 9,
   "metadata": {},
   "outputs": [
    {
     "name": "stderr",
     "output_type": "stream",
     "text": [
      "/tmp/ipykernel_3289491/989496165.py:6: FutureWarning: You are using `torch.load` with `weights_only=False` (the current default value), which uses the default pickle module implicitly. It is possible to construct malicious pickle data which will execute arbitrary code during unpickling (See https://github.com/pytorch/pytorch/blob/main/SECURITY.md#untrusted-models for more details). In a future release, the default value for `weights_only` will be flipped to `True`. This limits the functions that could be executed during unpickling. Arbitrary objects will no longer be allowed to be loaded via this mode unless they are explicitly allowlisted by the user via `torch.serialization.add_safe_globals`. We recommend you start setting `weights_only=True` for any use case where you don't have full control of the loaded file. Please open an issue on GitHub for any issues related to this experimental feature.\n",
      "  mymodel.load_state_dict(torch.load(f\"60.pth\"))\n"
     ]
    },
    {
     "data": {
      "text/plain": [
       "<All keys matched successfully>"
      ]
     },
     "execution_count": 9,
     "metadata": {},
     "output_type": "execute_result"
    }
   ],
   "source": [
    "from transformers import SegformerImageProcessor, SegformerForSemanticSegmentation\n",
    "backbone = SegformerForSemanticSegmentation.from_pretrained(\"nvidia/segformer-b1-finetuned-ade-512-512\")\n",
    "backbone.decode_head.classifier = torch.nn.Identity()\n",
    "\n",
    "mymodel =  MyModel(backbone)\n",
    "mymodel.load_state_dict(torch.load(f\"60.pth\")) "
   ]
  },
  {
   "cell_type": "code",
   "execution_count": 10,
   "metadata": {},
   "outputs": [
    {
     "ename": "AttributeError",
     "evalue": "'MyModel' object has no attribute 'module'",
     "output_type": "error",
     "traceback": [
      "\u001b[0;31m---------------------------------------------------------------------------\u001b[0m",
      "\u001b[0;31mAttributeError\u001b[0m                            Traceback (most recent call last)",
      "Cell \u001b[0;32mIn[10], line 1\u001b[0m\n\u001b[0;32m----> 1\u001b[0m torch\u001b[38;5;241m.\u001b[39msave(\u001b[43mmymodel\u001b[49m\u001b[38;5;241;43m.\u001b[39;49m\u001b[43mmodule\u001b[49m\u001b[38;5;241m.\u001b[39mstate_dict(), \u001b[38;5;124m\"\u001b[39m\u001b[38;5;124m60.pth\u001b[39m\u001b[38;5;124m\"\u001b[39m)\n",
      "File \u001b[0;32m~/.local/lib/python3.10/site-packages/torch/nn/modules/module.py:1729\u001b[0m, in \u001b[0;36mModule.__getattr__\u001b[0;34m(self, name)\u001b[0m\n\u001b[1;32m   1727\u001b[0m     \u001b[38;5;28;01mif\u001b[39;00m name \u001b[38;5;129;01min\u001b[39;00m modules:\n\u001b[1;32m   1728\u001b[0m         \u001b[38;5;28;01mreturn\u001b[39;00m modules[name]\n\u001b[0;32m-> 1729\u001b[0m \u001b[38;5;28;01mraise\u001b[39;00m \u001b[38;5;167;01mAttributeError\u001b[39;00m(\u001b[38;5;124mf\u001b[39m\u001b[38;5;124m\"\u001b[39m\u001b[38;5;124m'\u001b[39m\u001b[38;5;132;01m{\u001b[39;00m\u001b[38;5;28mtype\u001b[39m(\u001b[38;5;28mself\u001b[39m)\u001b[38;5;241m.\u001b[39m\u001b[38;5;18m__name__\u001b[39m\u001b[38;5;132;01m}\u001b[39;00m\u001b[38;5;124m'\u001b[39m\u001b[38;5;124m object has no attribute \u001b[39m\u001b[38;5;124m'\u001b[39m\u001b[38;5;132;01m{\u001b[39;00mname\u001b[38;5;132;01m}\u001b[39;00m\u001b[38;5;124m'\u001b[39m\u001b[38;5;124m\"\u001b[39m)\n",
      "\u001b[0;31mAttributeError\u001b[0m: 'MyModel' object has no attribute 'module'"
     ]
    }
   ],
   "source": [
    "# torch.save(mymodel.module.state_dict(), \"60.pth\")"
   ]
  },
  {
   "cell_type": "code",
   "execution_count": 18,
   "metadata": {},
   "outputs": [
    {
     "name": "stderr",
     "output_type": "stream",
     "text": [
      "100%|██████████| 80/80 [00:31<00:00,  2.58it/s]\n"
     ]
    }
   ],
   "source": [
    "# write to mp4\n",
    "fourcc = cv2.VideoWriter_fourcc(*'mp4v')\n",
    "out = cv2.VideoWriter('output.mp4', fourcc, 2.0, (384 * 3, 384))\n",
    "import tqdm\n",
    "flatten_pred = []\n",
    "flatten_gt = []\n",
    "model = mymodel.cpu()\n",
    "model = model.eval()\n",
    "for frame_id in tqdm.tqdm(range(1, len(val_list), 10)):\n",
    "    # print(frame_id)\n",
    "    current_frame = torch.tensor(frames[frame_id]).permute(2,0,1).unsqueeze(0).float() / 255.0\n",
    "    long_bg_frame = torch.tensor(long_bg[frame_id]).permute(2,0,1).unsqueeze(0).float() / 255.0\n",
    "    short_bg_frame = torch.tensor(short_bg[frame_id]).permute(2,0,1).unsqueeze(0).float() / 255.0\n",
    "    gt_frame = cv2.resize(cv2.imread(f\"/home/wg25r/fastdata/CDNet/gt/{val_list[frame_id]}\"), (384, 384))/255.0\n",
    "    with torch.no_grad():\n",
    "        pred = model(current_frame, long_bg_frame, short_bg_frame) \n",
    "    pred = pred[0,0].cpu().numpy() > 0 \n",
    "    pred = 1.0 * pred\n",
    "    # show 3 side by side with label using cv2 \n",
    "    pred = cv2.resize(pred, (gt_frame.shape[1], gt_frame.shape[0]))\n",
    "    current_frame = current_frame[0].permute(1,2,0).cpu().numpy()   \n",
    "    pred = pred[None,:,:].repeat(3, axis=0).transpose(1,2,0)\n",
    "    res = np.concatenate([current_frame, pred, gt_frame], axis=1)\n",
    "    out.write((res * 255).astype(np.uint8))\n",
    "    flatten_pred.append(pred)\n",
    "    flatten_gt.append(gt_frame)\n",
    "    \n",
    "out.release() \n"
   ]
  },
  {
   "cell_type": "code",
   "execution_count": 27,
   "metadata": {},
   "outputs": [
    {
     "data": {
      "text/plain": [
       "'/home/wg25r/fastdata/CDNet/long/gt/nightVideos_streetCornerAtNight_in000801.png'"
      ]
     },
     "execution_count": 27,
     "metadata": {},
     "output_type": "execute_result"
    }
   ],
   "source": [
    "f\"/home/wg25r/fastdata/CDNet/long/gt/{val_list[frame_id].replace('jpg','png')}\""
   ]
  },
  {
   "cell_type": "code",
   "execution_count": 46,
   "metadata": {},
   "outputs": [],
   "source": [
    "flatten_pred = np.concatenate(flatten_pred, axis=0)\n",
    "flatten_gt = np.concatenate(flatten_gt, axis=0)"
   ]
  },
  {
   "cell_type": "code",
   "execution_count": 52,
   "metadata": {},
   "outputs": [
    {
     "data": {
      "text/plain": [
       "0.0"
      ]
     },
     "execution_count": 52,
     "metadata": {},
     "output_type": "execute_result"
    }
   ],
   "source": [
    "flatten_pred.min()"
   ]
  },
  {
   "cell_type": "code",
   "execution_count": 54,
   "metadata": {},
   "outputs": [
    {
     "data": {
      "text/plain": [
       "0.3680470116197527"
      ]
     },
     "execution_count": 54,
     "metadata": {},
     "output_type": "execute_result"
    }
   ],
   "source": [
    "flatten_pred = np.float32(flatten_pred)>0\n",
    "flatten_gt = np.float32(flatten_gt)==1\n",
    "\n",
    "# sklearn F1 score\n",
    "from sklearn.metrics import f1_score \n",
    "flatten_pred = flatten_pred.flatten()\n",
    "flatten_gt = flatten_gt.flatten()\n",
    "f1_score(flatten_gt, flatten_pred)\n",
    "\n"
   ]
  },
  {
   "cell_type": "code",
   "execution_count": 44,
   "metadata": {},
   "outputs": [
    {
     "data": {
      "text/plain": [
       "<matplotlib.image.AxesImage at 0x7aa3fe144280>"
      ]
     },
     "execution_count": 44,
     "metadata": {},
     "output_type": "execute_result"
    },
    {
     "data": {
      "image/png": "[encoded data removed]",
      "text/plain": [
       "<Figure size 640x480 with 1 Axes>"
      ]
     },
     "metadata": {},
     "output_type": "display_data"
    }
   ],
   "source": [
    "pylab.imshow(gt_frame)"
   ]
  },
  {
   "cell_type": "code",
   "execution_count": 57,
   "metadata": {},
   "outputs": [
    {
     "data": {
      "text/plain": [
       "0.15923675572975998"
      ]
     },
     "execution_count": 57,
     "metadata": {},
     "output_type": "execute_result"
    }
   ],
   "source": [
    "# iou between pred and gt \n",
    "iou = (((pred > 0) & (gt_frame == 1)).astype(float).mean() + 1e-6)/(((pred > 0) | ((gt_frame == 1))).astype(float).mean() + 1e-6)\n",
    "iou"
   ]
  },
  {
   "cell_type": "code",
   "execution_count": 35,
   "metadata": {},
   "outputs": [
    {
     "data": {
      "text/plain": [
       "np.float64(1.3538942436595872e-05)"
      ]
     },
     "execution_count": 35,
     "metadata": {},
     "output_type": "execute_result"
    }
   ],
   "source": [
    "iou "
   ]
  },
  {
   "cell_type": "code",
   "execution_count": 58,
   "metadata": {},
   "outputs": [
    {
     "data": {
      "text/plain": [
       "<matplotlib.image.AxesImage at 0x7aa3fe055660>"
      ]
     },
     "execution_count": 58,
     "metadata": {},
     "output_type": "execute_result"
    },
    {
     "data": {
      "image/png": "[encoded data removed]",
      "text/plain": [
       "<Figure size 640x480 with 3 Axes>"
      ]
     },
     "metadata": {},
     "output_type": "display_data"
    },
    {
     "ename": "",
     "evalue": "",
     "output_type": "error",
     "traceback": [
      "\u001b[1;31mThe Kernel crashed while executing code in the current cell or a previous cell. \n",
      "\u001b[1;31mPlease review the code in the cell(s) to identify a possible cause of the failure. \n",
      "\u001b[1;31mClick <a href='https://aka.ms/vscodeJupyterKernelCrash'>here</a> for more info. \n",
      "\u001b[1;31mView Jupyter <a href='command:jupyter.viewOutput'>log</a> for further details."
     ]
    }
   ],
   "source": [
    "import pylab\n",
    "pylab.subplot(1, 3, 1)\n",
    "pylab.imshow(current_frame)\n",
    "pylab.subplot(1, 3, 2)\n",
    "pylab.imshow(pred) \n",
    "pylab.subplot(1, 3, 3) \n",
    "pylab.imshow(gt_frame)"
   ]
  },
  {
   "cell_type": "code",
   "execution_count": 37,
   "metadata": {},
   "outputs": [
    {
     "data": {
      "text/plain": [
       "np.float32(0.10588235)"
      ]
     },
     "execution_count": 37,
     "metadata": {},
     "output_type": "execute_result"
    }
   ],
   "source": [
    "np.abs(long_bg_frame.permute(0,2,3,1)[0].numpy() - current_frame).max()"
   ]
  },
  {
   "cell_type": "code",
   "execution_count": 38,
   "metadata": {},
   "outputs": [
    {
     "data": {
      "text/plain": [
       "((448, 448, 3), (448, 448, 3), (448, 448, 3))"
      ]
     },
     "execution_count": 38,
     "metadata": {},
     "output_type": "execute_result"
    }
   ],
   "source": [
    "current_frame.shape, pred.shape, gt_frame.shape"
   ]
  }
 ],
 "metadata": {
  "kernelspec": {
   "display_name": "Python 3",
   "language": "python",
   "name": "python3"
  },
  "language_info": {
   "codemirror_mode": {
    "name": "ipython",
    "version": 3
   },
   "file_extension": ".py",
   "mimetype": "text/x-python",
   "name": "python",
   "nbconvert_exporter": "python",
   "pygments_lexer": "ipython3",
   "version": "3.10.12"
  }
 },
 "nbformat": 4,
 "nbformat_minor": 2
}
