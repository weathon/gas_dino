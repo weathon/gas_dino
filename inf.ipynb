{
 "cells": [
  {
   "cell_type": "code",
   "execution_count": 1,
   "metadata": {},
   "outputs": [],
   "source": [
    "import os\n",
    "os.environ['CUDA_VISIBLE_DEVICES'] = '2'\n",
    "import argparse\n",
    "parser = argparse.ArgumentParser()\n",
    "parser.add_argument(\"--batch_size\", type=int, default=128)\n",
    "parser.add_argument(\"--lr\", type=float, default=5e-6)\n",
    "parser.add_argument(\"--num_epochs\", type=int, default=200)\n",
    "parser.add_argument(\"--num_workers\", type=int, default=70)\n",
    "parser.add_argument(\"--num_decoder_layers\", type=int, default=3)\n",
    "\n",
    "# accept all othjer arguments even if it is not listed here\n",
    "parser.add_argument(\"--\", dest=\"others\", nargs=argparse.REMAINDER)\n",
    "args, unknown = parser.parse_known_args()"
   ]
  },
  {
   "cell_type": "code",
   "execution_count": 2,
   "metadata": {},
   "outputs": [],
   "source": [
    "import torch\n",
    "import torch.nn as nn\n",
    "import torch.nn.functional as F\n",
    "import torchvision.transforms.v2\n",
    "import torchvision.transforms.functional\n",
    "\n",
    "import numpy as np\n",
    "import cv2\n",
    "import os\n",
    "import cv2 as cv\n",
    "import matplotlib.pyplot as plt\n",
    "import random\n",
    "\n",
    "class MyDataset(torch.utils.data.Dataset):\n",
    "    def __init__(self, mode=\"train\"):\n",
    "        self.mode = mode\n",
    "        self.datapath = \"/home/wg25r/fastdata/CDNet\"\n",
    "       \n",
    "        if mode == \"train\":\n",
    "            with open(f\"{self.datapath}/train.txt\") as f:\n",
    "                self.images = f.read().split(\"\\n\")\n",
    "        else: \n",
    "            with open(f\"{self.datapath}/val.txt\") as f:\n",
    "                self.images = f.read().split(\"\\n\")\n",
    "            self.images = random.sample(self.images, 128)\n",
    "\n",
    "\n",
    "        self.ignore_after = 40 \n",
    "        self.space_trans = torchvision.transforms.v2.Compose([\n",
    "            torchvision.transforms.v2.RandomResizedCrop(448, scale=(0.6, 3)), \n",
    "            torchvision.transforms.v2.RandomHorizontalFlip(0.5),\n",
    "            torchvision.transforms.v2.RandomRotation(20), \n",
    "            torchvision.transforms.v2.RandomApply(\n",
    "                [torchvision.transforms.v2.ElasticTransform(alpha=50)], p=0.2\n",
    "            ),\n",
    "            torchvision.transforms.v2.RandomApply(\n",
    "                [torchvision.transforms.v2.RandomPerspective()], p=0.2\n",
    "            ),\n",
    "            torchvision.transforms.v2.RandomApply(\n",
    "                [torchvision.transforms.v2.RandomAffine(20,  scale=(0.5, 1.1))], p=0.2\n",
    "            ),\n",
    "        ])\n",
    "        self.color_trans = torchvision.transforms.v2.Compose([\n",
    "            torchvision.transforms.v2.RandomApply([torchvision.transforms.v2.GaussianBlur(3, sigma=(0.1, 2.0))], p=0.4)\n",
    "        ])\n",
    "\n",
    "    def __len__(self): \n",
    "        if self.mode == \"train\":\n",
    "            return int(len(self.images)) \n",
    "        else: \n",
    "            return int(len(self.images))\n",
    "        \n",
    "\n",
    "    def __getitem__(self, idx):  \n",
    "        filename = self.images[idx]\n",
    "\n",
    "        current_frame = cv2.resize(cv2.imread(f\"{self.datapath}/in/{filename}\"), (448, 448))\n",
    "        long_bg = cv2.resize(cv2.imread(f\"{self.datapath}/long/{filename}\"), (448, 448))\n",
    "        short_bg = cv2.resize(cv2.imread(f\"{self.datapath}/short/{filename}\"), (448, 448)) \n",
    "        label_ = cv2.imread(f\"{self.datapath}/gt/{filename}\")\n",
    "        label = (label_ == 255) * 255.0\n",
    "        ROI =  (label_ != 85) * 255.0\n",
    "        label = cv2.resize(label, (448, 448))\n",
    "        ROI = cv2.resize(ROI, (448//4, 448//4)).mean(-1) > 0\n",
    "        ROI = torch.tensor(ROI).float()\n",
    "\n",
    "        current_frame = torch.tensor(current_frame).permute(2,0,1)\n",
    "        long_bg = torch.tensor(long_bg).permute(2,0,1)\n",
    "        short_bg = torch.tensor(short_bg).permute(2,0,1)\n",
    "        label = torch.tensor(label).permute(2,0,1)\n",
    "        X = torch.cat([current_frame, long_bg, short_bg], axis=0)\n",
    "        # print(X.shape)\n",
    "        \n",
    "        Y = label.max(0)[0][None,:,:] \n",
    "\n",
    "        if self.mode == \"train\":  \n",
    "            # X = self.color_trans(X) \n",
    "            YX = torch.cat((Y, X), axis=0) \n",
    "            YX = self.space_trans(YX)\n",
    "            Y = YX[:1]/255.0  \n",
    "            X = YX[1:]/255.0 \n",
    "            X += torch.randn(X.shape) * 0.005\n",
    "            X += torch.tensor(cv.resize(np.random.normal(0, 0.005, (10, 10)), X.shape[1:])).float()\n",
    "            X *= 1 + torch.randn(9)[:,None,None] * 0.005\n",
    "        else:\n",
    "            X = X/255.0\n",
    "            Y = Y/255.0 \n",
    "        Y = torchvision.transforms.functional.resize(Y, (448//4, 448//4))[0] > 0\n",
    "        Y = Y.float() #if not this loss will be issue, maybe from the resize, identical not 0\n",
    "        X[X<0]=0\n",
    "        # print(X.shape, Y.shape, ROI.shape)\n",
    "        return X, Y, ROI \n"
   ]
  },
  {
   "cell_type": "code",
   "execution_count": 3,
   "metadata": {},
   "outputs": [
    {
     "name": "stderr",
     "output_type": "stream",
     "text": [
      "Using cache found in /home/wg25r/.cache/torch/hub/facebookresearch_dino_main\n"
     ]
    }
   ],
   "source": [
    "vits8 = torch.hub.load('facebookresearch/dino:main', 'dino_vits8')\n",
    "\n",
    "# %%\n",
    "class BCA(nn.Module):\n",
    "    \"\"\"\n",
    "    Background-CurrentFrame Attention\n",
    "    \"\"\"\n",
    "    def __init__(self, dim=384):\n",
    "        super(BCA, self).__init__()\n",
    "        self.cross_attention = nn.MultiheadAttention(dim, HEADS, dropout=0.1, batch_first=True, kdim=dim, vdim=dim * 2)\n",
    "        self.mlp = nn.Sequential(\n",
    "            nn.Linear(dim, 1024),\n",
    "            nn.ReLU(),\n",
    "            nn.Linear(1024, dim)\n",
    "        )\n",
    "        self.norm1 = nn.LayerNorm(dim)\n",
    "        self.norm2 = nn.LayerNorm(dim)\n",
    "    \n",
    "    def forward(self, long_background, short_background, current_frame):\n",
    "        \"\"\"\n",
    "        long_background: torch.Tensor, shape (batch, L, dim)\n",
    "        short_background: torch.Tensor, shape (batch, L, dim)\n",
    "        current_frame: torch.Tensor, shape (batch, L, dim)\n",
    "        \"\"\"\n",
    "\n",
    "        # first do cross attention between current_frame and long_background\n",
    "        attn_output, _ = self.cross_attention(query=current_frame, key=long_background, value=torch.concatenate([long_background, current_frame], dim=-1))\n",
    "        attn_output = self.norm1(attn_output + current_frame)\n",
    "        mlp_output = self.mlp(attn_output)\n",
    "        mlp_output = self.norm2(mlp_output + attn_output)\n",
    "\n",
    "        # then do cross attention between mlp output and short_background\n",
    "        attn_output, _ = self.cross_attention(query=mlp_output, key=short_background, value=torch.concatenate([short_background, mlp_output], dim=-1))\n",
    "        attn_output = self.norm1(attn_output + mlp_output)\n",
    "        mlp_output = self.mlp(attn_output)\n",
    "        mlp_output = self.norm2(mlp_output + attn_output)\n",
    "        return mlp_output\n",
    "    \n",
    "        \n",
    "\n",
    "# %%\n",
    "class BCA_lite(nn.Module):\n",
    "    \"\"\"\n",
    "    Background-CurrentFrame Attention\n",
    "    \"\"\"\n",
    "    def __init__(self, dim=384):\n",
    "        super(BCA_lite, self).__init__()\n",
    "        self.dim = dim\n",
    "        self.key_projection = nn.Linear(dim, dim)\n",
    "        self.query_projection = nn.Linear(dim, dim)\n",
    "        self.value_projection = nn.Linear(dim * 2, dim)\n",
    "        self.mlp = nn.Sequential(\n",
    "            nn.Linear(2 * dim, 1024),\n",
    "            nn.Dropout(0.2),\n",
    "            nn.ReLU(),\n",
    "            nn.Linear(1024, 2048),\n",
    "            nn.Dropout(0.2),\n",
    "            nn.ReLU(), \n",
    "            nn.Linear(2048, dim),\n",
    "            nn.Dropout(0.2)\n",
    "        )\n",
    "        self.norm1 = nn.LayerNorm(dim)\n",
    "        self.norm2 = nn.LayerNorm(dim)\n",
    "\n",
    "    def forward(self, current_frame, long_background, short_background):\n",
    "        \"\"\"\n",
    "        long_background: torch.Tensor, shape (batch, L, dim)\n",
    "        short_background: torch.Tensor, shape (batch, L, dim)\n",
    "        current_frame: torch.Tensor, shape (batch, L, dim)\n",
    "        \"\"\"\n",
    "\n",
    "        # long background attention with frame\n",
    "        key = self.key_projection(long_background)\n",
    "        query = self.query_projection(current_frame)\n",
    "        value = self.value_projection(torch.concatenate([long_background, current_frame], dim=-1))\n",
    "\n",
    "        attn_score = torch.einsum(\"bld,bld->bl\", query, key) / self.dim**0.5\n",
    "        attn_score = F.softmax(attn_score, dim=1)\n",
    "        attn_output = torch.einsum(\"bl,bld->bld\", attn_score, value)\n",
    "        attn_output = self.norm1(attn_output + current_frame) \n",
    "        mlp_output = self.mlp(torch.concatenate([attn_output, current_frame], dim=-1))\n",
    "        mlp_output = self.norm2(mlp_output + attn_output)\n",
    "\n",
    "        # short background attention with frame\n",
    "        key = self.key_projection(short_background)\n",
    "        query = self.query_projection(current_frame)\n",
    "        value = self.value_projection(torch.concatenate([short_background, current_frame], dim=-1))\n",
    "\n",
    "        attn_score = torch.einsum(\"bld,bld->bl\", query, key) / self.dim**0.5\n",
    "        attn_score = F.softmax(attn_score, dim=1)\n",
    "        attn_output = torch.einsum(\"bl,bld->bld\", attn_score, value)\n",
    "        attn_output = self.norm1(attn_output + mlp_output)\n",
    "        mlp_output = self.mlp(torch.concatenate([attn_output, mlp_output], dim=-1))\n",
    "        mlp_output2 = self.norm2(mlp_output + attn_output)\n",
    "        return torch.cat([mlp_output, mlp_output2], dim=-1)\n",
    "    \n",
    "        \n",
    "        \n",
    "\n",
    "last_n = 1    \n",
    "\n",
    "# %%\n",
    "class MyModel(nn.Module):\n",
    "    def __init__(self, backbone):\n",
    "        super(MyModel, self).__init__()\n",
    "        self.backbone = backbone\n",
    "        for param in self.backbone.parameters():\n",
    "            param.requires_grad = False\n",
    "        self.bca = BCA_lite()\n",
    "        self.decoder = nn.TransformerEncoder(\n",
    "            nn.TransformerEncoderLayer(d_model=384 * 2, nhead=8, dim_feedforward=1024, dropout=0.2, batch_first=True),\n",
    "            num_layers=args.num_decoder_layers\n",
    "        )\n",
    "        self.head = nn.Sequential(\n",
    "            nn.Conv2d(384 * 2, 32, 1),\n",
    "            nn.Dropout(0.2), \n",
    "            nn.ReLU(),\n",
    "            nn.Conv2d(32, 1, 1),\n",
    "            nn.Upsample(scale_factor=2, mode='bicubic'),\n",
    "        )   \n",
    "        \n",
    "\n",
    "    def forward(self, current_frame, long_bg, short_bg):\n",
    "        long_bg = self.backbone.get_intermediate_layers(long_bg, n=last_n)\n",
    "        short_bg = self.backbone.get_intermediate_layers(short_bg, n=last_n)\n",
    "        current_frame = self.backbone.get_intermediate_layers(current_frame, n=last_n)\n",
    "        # print(last_n)\n",
    "        res = torch.zeros((long_bg[0].shape[0], 448//8 * 448//8, 384 * 2)).to(long_bg[0].device)\n",
    "        # print(long_bg[0].shape, short_bg[0].shape, current_frame[0].shape)\n",
    "        for layer in range(last_n): \n",
    "            current_frame = self.bca(current_frame[layer][:,1:,:], long_bg[layer][:,1:,:], short_bg[layer][:,1:,:])\n",
    "            current_frame = self.decoder(current_frame)\n",
    "            res = current_frame + res\n",
    "        current_frame = res/last_n \n",
    "\n",
    "        return self.head(current_frame.reshape(long_bg[0].shape[0], 448//8, 448//8, 384 * 2).permute(0,3,1,2))\n",
    "    "
   ]
  },
  {
   "cell_type": "code",
   "execution_count": 4,
   "metadata": {},
   "outputs": [],
   "source": [
    "with open(\"/home/wg25r/fastdata/CDNet/val.txt\", \"r\") as f:\n",
    "    val_files = f.read().split(\"\\n\")"
   ]
  },
  {
   "cell_type": "code",
   "execution_count": 28,
   "metadata": {},
   "outputs": [],
   "source": [
    "val_files = os.listdir(\"/home/wg25r/fastdata/gasvid/train/images\")\n",
    "val_list = [i for i in sorted(val_files) if i.startswith(\"train_1240_00004\")]"
   ]
  },
  {
   "cell_type": "code",
   "execution_count": 29,
   "metadata": {},
   "outputs": [],
   "source": [
    "frames = []\n",
    "long_bg = []\n",
    "short_bg = []\n",
    "for i in val_list:\n",
    "    frames.append(cv2.resize(cv2.imread(f\"/home/wg25r/fastdata/gasvid/train/images/{i}\"), (448, 448)))\n",
    "    long_bg.append(cv2.resize(cv2.imread(f\"/home/wg25r/fastdata/gasvid/train/ir_background/{i}\"), (448, 448)))\n",
    "    short_bg.append(cv2.resize(cv2.imread(f\"/home/wg25r/fastdata/gasvid/train/ir_background/{i}\"), (448, 448)))"
   ]
  },
  {
   "cell_type": "code",
   "execution_count": 30,
   "metadata": {},
   "outputs": [
    {
     "name": "stderr",
     "output_type": "stream",
     "text": [
      "/tmp/ipykernel_289212/3560680610.py:3: FutureWarning: You are using `torch.load` with `weights_only=False` (the current default value), which uses the default pickle module implicitly. It is possible to construct malicious pickle data which will execute arbitrary code during unpickling (See https://github.com/pytorch/pytorch/blob/main/SECURITY.md#untrusted-models for more details). In a future release, the default value for `weights_only` will be flipped to `True`. This limits the functions that could be executed during unpickling. Arbitrary objects will no longer be allowed to be loaded via this mode unless they are explicitly allowlisted by the user via `torch.serialization.add_safe_globals`. We recommend you start setting `weights_only=True` for any use case where you don't have full control of the loaded file. Please open an issue on GitHub for any issues related to this experimental feature.\n",
      "  model.load_state_dict(torch.load(f\"main.pth\"))\n"
     ]
    },
    {
     "data": {
      "text/plain": [
       "<All keys matched successfully>"
      ]
     },
     "execution_count": 30,
     "metadata": {},
     "output_type": "execute_result"
    }
   ],
   "source": [
    "model = MyModel(vits8) \n",
    "model = nn.DataParallel(model) \n",
    "model.load_state_dict(torch.load(f\"main.pth\"))"
   ]
  },
  {
   "cell_type": "code",
   "execution_count": 31,
   "metadata": {},
   "outputs": [
    {
     "name": "stderr",
     "output_type": "stream",
     "text": [
      "100%|██████████| 15/15 [00:06<00:00,  2.50it/s]\n"
     ]
    }
   ],
   "source": [
    "# write to mp4\n",
    "fourcc = cv2.VideoWriter_fourcc(*'mp4v')\n",
    "out = cv2.VideoWriter('output.mp4', fourcc, 20.0, (448 * 3, 448))\n",
    "import tqdm\n",
    "flatten_pred = []\n",
    "flatten_gt = []\n",
    "model = model.eval()\n",
    "for frame_id in tqdm.tqdm(range(1, len(val_list), 10)):\n",
    "    # print(frame_id)\n",
    "    current_frame = torch.tensor(frames[frame_id]).permute(2,0,1).unsqueeze(0).float() / 255.0\n",
    "    long_bg_frame = torch.tensor(long_bg[frame_id]).permute(2,0,1).unsqueeze(0).float() / 255.0\n",
    "    short_bg_frame = torch.tensor(short_bg[frame_id]).permute(2,0,1).unsqueeze(0).float() / 255.0\n",
    "    gt_frame = cv2.resize(cv2.imread(f\"/home/wg25r/fastdata/gasvid/train/masks/{val_list[frame_id].replace('jpg','png')}\"), (448, 448))/255.0\n",
    "    with torch.no_grad():\n",
    "        pred = model(current_frame, long_bg_frame, short_bg_frame) \n",
    "    pred = pred[0,0].cpu().numpy() > 0 \n",
    "    pred = 1.0 * pred\n",
    "    # show 3 side by side with label using cv2 \n",
    "    pred = cv2.resize(pred, (gt_frame.shape[1], gt_frame.shape[0]))\n",
    "    current_frame = current_frame[0].permute(1,2,0).cpu().numpy()   \n",
    "    pred = pred[None,:,:].repeat(3, axis=0).transpose(1,2,0)\n",
    "    res = np.concatenate([current_frame, pred, gt_frame], axis=1)\n",
    "    out.write((res * 255).astype(np.uint8))\n",
    "    flatten_pred.append(pred)\n",
    "    flatten_gt.append(gt_frame)\n",
    "    \n",
    "out.release()\n"
   ]
  },
  {
   "cell_type": "code",
   "execution_count": 32,
   "metadata": {},
   "outputs": [],
   "source": [
    "flatten_pred = np.concatenate(flatten_pred, axis=0)\n",
    "flatten_gt = np.concatenate(flatten_gt, axis=0)"
   ]
  },
  {
   "cell_type": "code",
   "execution_count": 33,
   "metadata": {},
   "outputs": [
    {
     "data": {
      "text/plain": [
       "np.float64(0.0)"
      ]
     },
     "execution_count": 33,
     "metadata": {},
     "output_type": "execute_result"
    }
   ],
   "source": [
    "flatten_pred = np.float32(flatten_pred)>0\n",
    "flatten_gt = np.float32(flatten_gt)>0\n",
    "\n",
    "# sklearn F1 score\n",
    "from sklearn.metrics import f1_score\n",
    "flatten_pred = flatten_pred.flatten()\n",
    "flatten_gt = flatten_gt.flatten()\n",
    "f1_score(flatten_gt, flatten_pred)\n",
    "\n"
   ]
  },
  {
   "cell_type": "code",
   "execution_count": 34,
   "metadata": {},
   "outputs": [
    {
     "data": {
      "text/plain": [
       "np.float64(1.3538942436595872e-05)"
      ]
     },
     "execution_count": 34,
     "metadata": {},
     "output_type": "execute_result"
    }
   ],
   "source": [
    "# iou between pred and gt \n",
    "iou = (((pred > 0) & (gt_frame > 0)).astype(float).mean() + 1e-6)/(((pred > 0) | ((gt_frame > 0))).astype(float).mean() + 1e-6)\n",
    "iou"
   ]
  },
  {
   "cell_type": "code",
   "execution_count": 35,
   "metadata": {},
   "outputs": [
    {
     "data": {
      "text/plain": [
       "np.float64(1.3538942436595872e-05)"
      ]
     },
     "execution_count": 35,
     "metadata": {},
     "output_type": "execute_result"
    }
   ],
   "source": [
    "iou "
   ]
  },
  {
   "cell_type": "code",
   "execution_count": 36,
   "metadata": {},
   "outputs": [
    {
     "data": {
      "text/plain": [
       "<matplotlib.image.AxesImage at 0x7d52c47bdf90>"
      ]
     },
     "execution_count": 36,
     "metadata": {},
     "output_type": "execute_result"
    },
    {
     "data": {
      "image/png": "[encoded data removed]",
      "text/plain": [
       "<Figure size 640x480 with 3 Axes>"
      ]
     },
     "metadata": {},
     "output_type": "display_data"
    }
   ],
   "source": [
    "import pylab\n",
    "pylab.subplot(1, 3, 1)\n",
    "pylab.imshow(current_frame)\n",
    "pylab.subplot(1, 3, 2)\n",
    "pylab.imshow(pred) \n",
    "pylab.subplot(1, 3, 3) \n",
    "pylab.imshow(gt_frame)"
   ]
  },
  {
   "cell_type": "code",
   "execution_count": 37,
   "metadata": {},
   "outputs": [
    {
     "data": {
      "text/plain": [
       "np.float32(0.10588235)"
      ]
     },
     "execution_count": 37,
     "metadata": {},
     "output_type": "execute_result"
    }
   ],
   "source": [
    "np.abs(long_bg_frame.permute(0,2,3,1)[0].numpy() - current_frame).max()"
   ]
  },
  {
   "cell_type": "code",
   "execution_count": 38,
   "metadata": {},
   "outputs": [
    {
     "data": {
      "text/plain": [
       "((448, 448, 3), (448, 448, 3), (448, 448, 3))"
      ]
     },
     "execution_count": 38,
     "metadata": {},
     "output_type": "execute_result"
    }
   ],
   "source": [
    "current_frame.shape, pred.shape, gt_frame.shape"
   ]
  }
 ],
 "metadata": {
  "kernelspec": {
   "display_name": "Python 3",
   "language": "python",
   "name": "python3"
  },
  "language_info": {
   "codemirror_mode": {
    "name": "ipython",
    "version": 3
   },
   "file_extension": ".py",
   "mimetype": "text/x-python",
   "name": "python",
   "nbconvert_exporter": "python",
   "pygments_lexer": "ipython3",
   "version": "3.10.12"
  }
 },
 "nbformat": 4,
 "nbformat_minor": 2
}
